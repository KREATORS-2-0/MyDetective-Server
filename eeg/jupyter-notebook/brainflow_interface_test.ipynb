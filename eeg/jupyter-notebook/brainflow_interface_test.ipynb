{
 "cells": [
  {
   "cell_type": "code",
   "execution_count": null,
   "metadata": {},
   "outputs": [],
   "source": [
    "import time\n",
    "import brainflow\n",
    "from brainflow.board_shim import BoardShim, BrainFlowInputParams, BoardIds\n",
    "\n",
    "def main():\n",
    "    # Use BrainFlowInputParams to specify connection parameters\n",
    "    params = BrainFlowInputParams()\n",
    "    params.serial_port = 'COM7'  # Replace 'COMX' with your COM port for the Ganglion board\n",
    "\n",
    "    # Prepare the board ID for the Ganglion board\n",
    "    board_id = BoardIds.GANGLION_BOARD.value\n",
    "\n",
    "    # Prepare the board for data acquisition\n",
    "    BoardShim.enable_dev_board_logger()\n",
    "\n",
    "    try:\n",
    "        # Create a board instance\n",
    "        board = BoardShim(board_id, params)\n",
    "\n",
    "        # Connect to the board\n",
    "        board.prepare_session()\n",
    "\n",
    "        # Start streaming data, use a large value to ensure it doesn't timeout\n",
    "        board.start_stream(45000)\n",
    "        print('Streaming data from the Ganglion board...')\n",
    "\n",
    "        # Read data for a certain period of time\n",
    "        for _ in range(10):  # Adjust the range for longer streaming\n",
    "            time.sleep(1)  # Pause for a while before getting new data\n",
    "            data = board.get_board_data()  # Retrieve the latest data\n",
    "            print(data)  # Print the retrieved data\n",
    "\n",
    "    except Exception as e:\n",
    "        print('Error: ', e)\n",
    "\n",
    "    finally:\n",
    "        # Stop the stream and release the session\n",
    "        if board.is_prepared():\n",
    "            print('Stopping the stream and releasing session...')\n",
    "            board.stop_stream()\n",
    "            board.release_session()\n",
    "\n",
    "if __name__ == \"__main__\":\n",
    "    main()"
   ]
  }
 ],
 "metadata": {
  "kernelspec": {
   "display_name": "natHacks2023_env",
   "language": "python",
   "name": "python3"
  },
  "language_info": {
   "codemirror_mode": {
    "name": "ipython",
    "version": 3
   },
   "file_extension": ".py",
   "mimetype": "text/x-python",
   "name": "python",
   "nbconvert_exporter": "python",
   "pygments_lexer": "ipython3",
   "version": "3.9.18"
  }
 },
 "nbformat": 4,
 "nbformat_minor": 2
}
